{
  "nbformat": 4,
  "nbformat_minor": 0,
  "metadata": {
    "colab": {
      "provenance": []
    },
    "kernelspec": {
      "name": "python3",
      "display_name": "Python 3"
    },
    "language_info": {
      "name": "python"
    }
  },
  "cells": [
    {
      "cell_type": "code",
      "execution_count": 1,
      "metadata": {
        "id": "RPwvCP_5Jj73"
      },
      "outputs": [],
      "source": [
        "def PairSum(X, n, Sum):\n",
        "    hashTable = set()\n",
        "    pairs = []\n",
        "\n",
        "    for i in range(n):\n",
        "        k = Sum - X[i]\n",
        "\n",
        "        if k in hashTable:\n",
        "            pairs.append((X[i], k))\n",
        "\n",
        "        hashTable.add(X[i])\n",
        "\n",
        "    return pairs\n"
      ]
    },
    {
      "cell_type": "code",
      "source": [
        "X = [1, 5, 3, 2, -1, 4, 6, -2, 0]\n",
        "Sum = 5\n",
        "result = PairSum(X, len(X), Sum)\n",
        "print(result)\n"
      ],
      "metadata": {
        "colab": {
          "base_uri": "https://localhost:8080/"
        },
        "id": "12vLMudmQtvu",
        "outputId": "30b0746e-202b-4b05-8c29-724ad2488368"
      },
      "execution_count": 3,
      "outputs": [
        {
          "output_type": "stream",
          "name": "stdout",
          "text": [
            "[(2, 3), (4, 1), (6, -1), (0, 5)]\n"
          ]
        }
      ]
    }
  ]
}